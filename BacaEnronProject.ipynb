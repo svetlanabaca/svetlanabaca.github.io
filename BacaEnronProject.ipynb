{
 "cells": [
  {
   "cell_type": "code",
   "execution_count": 17,
   "metadata": {},
   "outputs": [
    {
     "name": "stdout",
     "output_type": "stream",
     "text": [
      "DEBUG:matplotlib.backends:backend module://ipykernel.pylab.backend_inline version unknown\n"
     ]
    }
   ],
   "source": [
    "%matplotlib inline\n",
    "\n",
    "import matplotlib.pyplot as plt\n",
    "import networkx as nx\n",
    "import collections "
   ]
  },
  {
   "cell_type": "code",
   "execution_count": 10,
   "metadata": {},
   "outputs": [],
   "source": [
    "el = open(\"Email-Enron.txt\",'rb')\n",
    "g= nx.read_edgelist(el, nodetype=int,  create_using= nx.DiGraph()) # edges on each line of the input,\n",
    "el.close() # we can close the file now"
   ]
  },
  {
   "cell_type": "code",
   "execution_count": 11,
   "metadata": {},
   "outputs": [
    {
     "name": "stdout",
     "output_type": "stream",
     "text": [
      "Name: \n",
      "Type: DiGraph\n",
      "Number of nodes: 36692\n",
      "Number of edges: 367662\n",
      "Average in degree:  10.0202\n",
      "Average out degree:  10.0202\n"
     ]
    },
    {
     "data": {
      "image/png": "[encoded data removed]",
      "text/plain": [
       "<Figure size 432x288 with 1 Axes>"
      ]
     },
     "metadata": {},
     "output_type": "display_data"
    }
   ],
   "source": [
    "#g = nx.read_edgelist('Email-Enron.txt',  create_using= nx.DiGraph())\n",
    "\n",
    "print(nx.info(g))\n",
    "nx.draw(g)\n",
    "plt.show()"
   ]
  },
  {
   "cell_type": "code",
   "execution_count": 12,
   "metadata": {},
   "outputs": [
    {
     "data": {
      "image/png": "[encoded data removed]",
      "text/plain": [
       "<Figure size 432x288 with 1 Axes>"
      ]
     },
     "metadata": {},
     "output_type": "display_data"
    }
   ],
   "source": [
    "nx.draw_circular(g)"
   ]
  },
  {
   "cell_type": "markdown",
   "metadata": {},
   "source": [
    "## Node Degrees"
   ]
  },
  {
   "cell_type": "code",
   "execution_count": null,
   "metadata": {},
   "outputs": [],
   "source": [
    "#node_degs = list(G1.degree()) #exploratory phase\n",
    "#nodes = list(G1) #exploratory phase\n",
    "degree_sequence = sorted([d for n, d in g.degree()], reverse=True)  # degree sequence\n",
    "degreeCount = collections.Counter(degree_sequence)\n",
    "deg, cnt = zip(*degreeCount.items())\n",
    "\n",
    "\n",
    "fig, ax = plt.subplots()\n",
    "plt.hist(nx.degree(g))\n",
    "\n",
    "plt.title(\"Degree Histogram\")\n",
    "plt.ylabel(\"Degree\")\n",
    "plt.xlabel(\"Node\")\n",
    "\n",
    "plt.show()"
   ]
  },
  {
   "cell_type": "markdown",
   "metadata": {},
   "source": [
    "## Density: strongly connected components."
   ]
  },
  {
   "cell_type": "code",
   "execution_count": null,
   "metadata": {},
   "outputs": [],
   "source": [
    "print (f'The Enron directed graph with density {round(nx.density(g),2)} has {nx.number_strongly_connected_components(g)} strongly connected componenet(s).\\n')"
   ]
  },
  {
   "cell_type": "markdown",
   "metadata": {},
   "source": [
    "## Subgraph containing only strongly connected components."
   ]
  },
  {
   "cell_type": "code",
   "execution_count": null,
   "metadata": {},
   "outputs": [],
   "source": [
    "components = nx.strongly_connected_components(g)\n",
    "for component in components:\n",
    "    print(f'{len(component)}: {component}')\n",
    "list(g.edges())"
   ]
  },
  {
   "cell_type": "markdown",
   "metadata": {},
   "source": [
    "## Centrality"
   ]
  },
  {
   "cell_type": "code",
   "execution_count": null,
   "metadata": {},
   "outputs": [],
   "source": [
    "nx.degree_centrality(g)"
   ]
  },
  {
   "cell_type": "markdown",
   "metadata": {},
   "source": [
    "## Degree Distribution"
   ]
  },
  {
   "cell_type": "code",
   "execution_count": null,
   "metadata": {},
   "outputs": [],
   "source": [
    "def  plot_degree_distribution():\n",
    "    degs = {}\n",
    "    for n in g.nodes():\n",
    "        deg = g.degree(n)\n",
    "        if deg  not in degs:\n",
    "            degs[deg] = 0\n",
    "        degs[deg] += 1\n",
    "    items = sorted(degs.items ())"
   ]
  },
  {
   "cell_type": "markdown",
   "metadata": {},
   "source": [
    "## Average Out Degrees"
   ]
  },
  {
   "cell_type": "code",
   "execution_count": null,
   "metadata": {},
   "outputs": [],
   "source": [
    "sum_of_deg = 0\n",
    "for n in range(len(g)):\n",
    "    sum_of_deg=sum_of_deg+g._outdegree(n)\n",
    "    \n",
    "#print(sum_of_deg)\n",
    "#print(len(G1))\n",
    "avg_deg=round(sum_of_deg/len(g),4)\n",
    "print(\"The average degree of nodes in the Enron Network is \" + str(avg_deg))"
   ]
  },
  {
   "cell_type": "markdown",
   "metadata": {},
   "source": [
    "## A subgraph that eliminates all nodes with degrees less than the average out-degree"
   ]
  },
  {
   "cell_type": "code",
   "execution_count": null,
   "metadata": {},
   "outputs": [],
   "source": [
    "remove = [node for node,degree in dict(g.degree()).items() if (degree < avg_deg) ]\n",
    "print(\"We remove a total of \" +str(len(remove)) +\" from the Enron Network and re-evaluate the subgraph \".\n",
    "#print(\"Nodes to be removed.\")\n",
    "#print(remove)"
   ]
  },
  {
   "cell_type": "code",
   "execution_count": null,
   "metadata": {},
   "outputs": [],
   "source": [
    "g_avg=g\n",
    "g_avg.remove_nodes_from(remove)\n",
    "print(nx.info(g_avg))\n",
    "nx.draw(g_avg)\n",
    "plt.show()"
   ]
  },
  {
   "cell_type": "markdown",
   "metadata": {},
   "source": [
    "## A subgraph that eliminates all nodes with degrees less than twice the average out-degree"
   ]
  },
  {
   "cell_type": "code",
   "execution_count": null,
   "metadata": {},
   "outputs": [],
   "source": [
    "avg_deg_times2 = avg_deg*2\n",
    "print(avg_deg_times2)\n",
    "remove1 = [node for node,degree in dict(g.degree()).items() if (degree < avg_deg_times2) ]\n",
    "print(\"We remove a total of \" +str(len(remove1)) +\" from the Enron Network and re-evaluate the subgraph \"."
   ]
  },
  {
   "cell_type": "code",
   "execution_count": null,
   "metadata": {},
   "outputs": [],
   "source": [
    "g_2avg=g\n",
    "g_2avg.remove_nodes_from(remove1)\n",
    "print(nx.info(g_avg))\n",
    "nx.draw(g_a2vg, with_labels=TRUE )\n",
    "plt.show()"
   ]
  },
  {
   "cell_type": "markdown",
   "metadata": {},
   "source": [
    "### Degree Centrality"
   ]
  },
  {
   "cell_type": "code",
   "execution_count": null,
   "metadata": {},
   "outputs": [],
   "source": [
    "degree_centrality(g_2avg)"
   ]
  },
  {
   "cell_type": "markdown",
   "metadata": {},
   "source": [
    "### Degrees Histogram"
   ]
  },
  {
   "cell_type": "code",
   "execution_count": null,
   "metadata": {},
   "outputs": [],
   "source": [
    "degree_sequence = sorted([d for n, d in g_2avg.degree()], reverse=True)  # degree sequence\n",
    "degreeCount = collections.Counter(degree_sequence)\n",
    "deg, cnt = zip(*degreeCount.items())\n",
    "\n",
    "\n",
    "fig, ax = plt.subplots()\n",
    "plt.hist(nx.degree(g_2avg))\n",
    "\n",
    "plt.title(\"Degree Histogram\")\n",
    "plt.ylabel(\"Degree\")\n",
    "plt.xlabel(\"Node\")\n",
    "\n",
    "plt.show()"
   ]
  },
  {
   "cell_type": "code",
   "execution_count": null,
   "metadata": {},
   "outputs": [],
   "source": [
    "sum_of_deg2 = 0\n",
    "for n in range(len(g)):\n",
    "    sum_of_deg2=sum_of_deg2+g_2avg._outdegree(n)\n",
    "    \n",
    "avg_deg2=round(sum_of_deg2/len(g_2avg),4)\n",
    "print(\"The average degree of nodes in the Enron Network subgraph is \" + str(avg_deg2))"
   ]
  },
  {
   "cell_type": "code",
   "execution_count": null,
   "metadata": {},
   "outputs": [],
   "source": [
    "print (f'The Enron directed graph with density {round(nx.density(g_2avg),2)} has {nx.number_strongly_connected_components(g_2avg)} strongly connected componenet(s).\\n')"
   ]
  },
  {
   "cell_type": "markdown",
   "metadata": {},
   "source": [
    "### Strong Components"
   ]
  },
  {
   "cell_type": "code",
   "execution_count": null,
   "metadata": {},
   "outputs": [],
   "source": [
    "strong_components1 = nx.strongly_connected_components(g_2avg)\n",
    "for strong_component in strong_components1:\n",
    "    print(f'{len(strong_component)}: {strong_component}')"
   ]
  }
 ],
 "metadata": {
  "kernelspec": {
   "display_name": "Python 3",
   "language": "python",
   "name": "python3"
  },
  "language_info": {
   "codemirror_mode": {
    "name": "ipython",
    "version": 3
   },
   "file_extension": ".py",
   "mimetype": "text/x-python",
   "name": "python",
   "nbconvert_exporter": "python",
   "pygments_lexer": "ipython3",
   "version": "3.7.0"
  }
 },
 "nbformat": 4,
 "nbformat_minor": 2
}
